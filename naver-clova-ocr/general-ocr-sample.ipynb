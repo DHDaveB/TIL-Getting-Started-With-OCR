{
 "cells": [
  {
   "cell_type": "code",
   "execution_count": 8,
   "id": "scientific-michael",
   "metadata": {},
   "outputs": [
    {
     "name": "stdout",
     "output_type": "stream",
     "text": [
      "{'version': 'V2', 'requestId': 'dcda1db5-7a19-41bb-8a77-dbb2e95a5050', 'timestamp': 1617947318461, 'images': [{'uid': '33894645ee8e4b8094fe309e6efd30a2', 'name': 'demo', 'inferResult': 'SUCCESS', 'message': 'SUCCESS', 'validationResult': {'result': 'NO_REQUESTED'}, 'fields': [{'valueType': 'ALL', 'boundingPoly': {'vertices': [{'x': 14.0, 'y': 20.0}, {'x': 273.0, 'y': 20.0}, {'x': 273.0, 'y': 95.0}, {'x': 14.0, 'y': 95.0}]}, 'inferText': 'CLOVA', 'inferConfidence': 1.0, 'type': 'NORMAL', 'lineBreak': False}, {'valueType': 'ALL', 'boundingPoly': {'vertices': [{'x': 286.0, 'y': 20.0}, {'x': 454.0, 'y': 20.0}, {'x': 454.0, 'y': 93.0}, {'x': 286.0, 'y': 93.0}]}, 'inferText': 'OCR', 'inferConfidence': 1.0, 'type': 'NORMAL', 'lineBreak': True}, {'valueType': 'ALL', 'boundingPoly': {'vertices': [{'x': 55.0, 'y': 213.0}, {'x': 107.0, 'y': 213.0}, {'x': 107.0, 'y': 245.0}, {'x': 55.0, 'y': 245.0}]}, 'inferText': '참고', 'inferConfidence': 1.0, 'type': 'NORMAL', 'lineBreak': True}, {'valueType': 'ALL', 'boundingPoly': {'vertices': [{'x': 59.0, 'y': 357.0}, {'x': 146.0, 'y': 357.0}, {'x': 146.0, 'y': 395.0}, {'x': 59.0, 'y': 395.0}]}, 'inferText': '네이버', 'inferConfidence': 1.0, 'type': 'NORMAL', 'lineBreak': False}, {'valueType': 'ALL', 'boundingPoly': {'vertices': [{'x': 150.0, 'y': 359.0}, {'x': 267.0, 'y': 359.0}, {'x': 267.0, 'y': 395.0}, {'x': 150.0, 'y': 395.0}]}, 'inferText': '클라우드', 'inferConfidence': 1.0, 'type': 'NORMAL', 'lineBreak': False}, {'valueType': 'ALL', 'boundingPoly': {'vertices': [{'x': 269.0, 'y': 357.0}, {'x': 385.0, 'y': 357.0}, {'x': 385.0, 'y': 395.0}, {'x': 269.0, 'y': 395.0}]}, 'inferText': '플랫폼의', 'inferConfidence': 0.9999, 'type': 'NORMAL', 'lineBreak': False}, {'valueType': 'ALL', 'boundingPoly': {'vertices': [{'x': 387.0, 'y': 357.0}, {'x': 450.0, 'y': 357.0}, {'x': 450.0, 'y': 395.0}, {'x': 387.0, 'y': 395.0}]}, 'inferText': '상품', 'inferConfidence': 1.0, 'type': 'NORMAL', 'lineBreak': False}, {'valueType': 'ALL', 'boundingPoly': {'vertices': [{'x': 450.0, 'y': 357.0}, {'x': 514.0, 'y': 357.0}, {'x': 514.0, 'y': 395.0}, {'x': 450.0, 'y': 395.0}]}, 'inferText': '사용', 'inferConfidence': 1.0, 'type': 'NORMAL', 'lineBreak': False}, {'valueType': 'ALL', 'boundingPoly': {'vertices': [{'x': 512.0, 'y': 359.0}, {'x': 604.0, 'y': 359.0}, {'x': 604.0, 'y': 395.0}, {'x': 512.0, 'y': 395.0}]}, 'inferText': '방법을', 'inferConfidence': 1.0, 'type': 'NORMAL', 'lineBreak': False}, {'valueType': 'ALL', 'boundingPoly': {'vertices': [{'x': 604.0, 'y': 357.0}, {'x': 668.0, 'y': 357.0}, {'x': 668.0, 'y': 395.0}, {'x': 604.0, 'y': 395.0}]}, 'inferText': '보다', 'inferConfidence': 1.0, 'type': 'NORMAL', 'lineBreak': False}, {'valueType': 'ALL', 'boundingPoly': {'vertices': [{'x': 668.0, 'y': 357.0}, {'x': 784.0, 'y': 357.0}, {'x': 784.0, 'y': 395.0}, {'x': 668.0, 'y': 395.0}]}, 'inferText': '상세하게', 'inferConfidence': 1.0, 'type': 'NORMAL', 'lineBreak': False}, {'valueType': 'ALL', 'boundingPoly': {'vertices': [{'x': 786.0, 'y': 357.0}, {'x': 913.0, 'y': 360.0}, {'x': 912.0, 'y': 398.0}, {'x': 785.0, 'y': 395.0}]}, 'inferText': '제공하고,', 'inferConfidence': 1.0, 'type': 'NORMAL', 'lineBreak': False}, {'valueType': 'ALL', 'boundingPoly': {'vertices': [{'x': 912.0, 'y': 357.0}, {'x': 1003.0, 'y': 357.0}, {'x': 1003.0, 'y': 395.0}, {'x': 912.0, 'y': 395.0}]}, 'inferText': '다양한', 'inferConfidence': 1.0, 'type': 'NORMAL', 'lineBreak': False}, {'valueType': 'ALL', 'boundingPoly': {'vertices': [{'x': 1003.0, 'y': 359.0}, {'x': 1088.0, 'y': 359.0}, {'x': 1088.0, 'y': 395.0}, {'x': 1003.0, 'y': 395.0}]}, 'inferText': 'API의', 'inferConfidence': 1.0, 'type': 'NORMAL', 'lineBreak': False}, {'valueType': 'ALL', 'boundingPoly': {'vertices': [{'x': 1092.0, 'y': 357.0}, {'x': 1181.0, 'y': 357.0}, {'x': 1181.0, 'y': 395.0}, {'x': 1092.0, 'y': 395.0}]}, 'inferText': '활용을', 'inferConfidence': 1.0, 'type': 'NORMAL', 'lineBreak': False}, {'valueType': 'ALL', 'boundingPoly': {'vertices': [{'x': 1183.0, 'y': 357.0}, {'x': 1244.0, 'y': 357.0}, {'x': 1244.0, 'y': 395.0}, {'x': 1183.0, 'y': 395.0}]}, 'inferText': '돕기', 'inferConfidence': 1.0, 'type': 'NORMAL', 'lineBreak': False}, {'valueType': 'ALL', 'boundingPoly': {'vertices': [{'x': 1246.0, 'y': 357.0}, {'x': 1307.0, 'y': 357.0}, {'x': 1307.0, 'y': 395.0}, {'x': 1246.0, 'y': 395.0}]}, 'inferText': '위해', 'inferConfidence': 0.9926, 'type': 'NORMAL', 'lineBreak': False}, {'valueType': 'ALL', 'boundingPoly': {'vertices': [{'x': 1307.0, 'y': 357.0}, {'x': 1446.0, 'y': 357.0}, {'x': 1446.0, 'y': 397.0}, {'x': 1307.0, 'y': 397.0}]}, 'inferText': '[설명서]와', 'inferConfidence': 0.9998, 'type': 'NORMAL', 'lineBreak': False}, {'valueType': 'ALL', 'boundingPoly': {'vertices': [{'x': 1446.0, 'y': 359.0}, {'x': 1511.0, 'y': 359.0}, {'x': 1511.0, 'y': 391.0}, {'x': 1446.0, 'y': 391.0}]}, 'inferText': '[API', 'inferConfidence': 0.9922, 'type': 'NORMAL', 'lineBreak': False}, {'valueType': 'ALL', 'boundingPoly': {'vertices': [{'x': 1513.0, 'y': 357.0}, {'x': 1642.0, 'y': 360.0}, {'x': 1641.0, 'y': 397.0}, {'x': 1512.0, 'y': 394.0}]}, 'inferText': '참조서]를', 'inferConfidence': 0.9994, 'type': 'NORMAL', 'lineBreak': False}, {'valueType': 'ALL', 'boundingPoly': {'vertices': [{'x': 1641.0, 'y': 357.0}, {'x': 1758.0, 'y': 357.0}, {'x': 1758.0, 'y': 395.0}, {'x': 1641.0, 'y': 395.0}]}, 'inferText': '구분하여', 'inferConfidence': 1.0, 'type': 'NORMAL', 'lineBreak': False}, {'valueType': 'ALL', 'boundingPoly': {'vertices': [{'x': 1760.0, 'y': 357.0}, {'x': 1878.0, 'y': 357.0}, {'x': 1878.0, 'y': 395.0}, {'x': 1760.0, 'y': 395.0}]}, 'inferText': '제공하고', 'inferConfidence': 1.0, 'type': 'NORMAL', 'lineBreak': False}, {'valueType': 'ALL', 'boundingPoly': {'vertices': [{'x': 1880.0, 'y': 357.0}, {'x': 2005.0, 'y': 357.0}, {'x': 2005.0, 'y': 395.0}, {'x': 1880.0, 'y': 395.0}]}, 'inferText': '있습니다.', 'inferConfidence': 1.0, 'type': 'NORMAL', 'lineBreak': True}, {'valueType': 'ALL', 'boundingPoly': {'vertices': [{'x': 55.0, 'y': 415.0}, {'x': 142.0, 'y': 415.0}, {'x': 142.0, 'y': 446.0}, {'x': 55.0, 'y': 446.0}]}, 'inferText': 'CLOVA', 'inferConfidence': 1.0, 'type': 'NORMAL', 'lineBreak': False}, {'valueType': 'ALL', 'boundingPoly': {'vertices': [{'x': 136.0, 'y': 415.0}, {'x': 196.0, 'y': 415.0}, {'x': 196.0, 'y': 446.0}, {'x': 136.0, 'y': 446.0}]}, 'inferText': 'OCR', 'inferConfidence': 0.9996, 'type': 'NORMAL', 'lineBreak': False}, {'valueType': 'ALL', 'boundingPoly': {'vertices': [{'x': 190.0, 'y': 415.0}, {'x': 263.0, 'y': 415.0}, {'x': 263.0, 'y': 448.0}, {'x': 190.0, 'y': 448.0}]}, 'inferText': '설명서', 'inferConfidence': 0.9999, 'type': 'NORMAL', 'lineBreak': False}, {'valueType': 'ALL', 'boundingPoly': {'vertices': [{'x': 257.0, 'y': 415.0}, {'x': 352.0, 'y': 415.0}, {'x': 352.0, 'y': 448.0}, {'x': 257.0, 'y': 448.0}]}, 'inferText': '바로가기', 'inferConfidence': 1.0, 'type': 'NORMAL', 'lineBreak': False}, {'valueType': 'ALL', 'boundingPoly': {'vertices': [{'x': 350.0, 'y': 423.0}, {'x': 379.0, 'y': 423.0}, {'x': 379.0, 'y': 440.0}, {'x': 350.0, 'y': 440.0}]}, 'inferText': '>>', 'inferConfidence': 0.9999, 'type': 'NORMAL', 'lineBreak': True}]}]}\n"
     ]
    }
   ],
   "source": [
    "import requests\n",
    "import uuid\n",
    "import time\n",
    "import json\n",
    "\n",
    "api_url = '<YOUR_GENERAL_API_KEY>'\n",
    "secret_key = '<YOUR_GENERAL_SECRET_KEY>'\n",
    "\n",
    "image_file = 'input/picture1.png'\n",
    "output_file = 'output/output1.json'\n",
    "\n",
    "request_json = {\n",
    "    'images': [\n",
    "        {\n",
    "            'format': 'png',\n",
    "            'name': 'demo'\n",
    "        }\n",
    "    ],\n",
    "    'requestId': str(uuid.uuid4()),\n",
    "    'version': 'V2',\n",
    "    'timestamp': int(round(time.time() * 1000))\n",
    "}\n",
    "\n",
    "payload = {'message': json.dumps(request_json).encode('UTF-8')}\n",
    "files = [\n",
    "  ('file', open(image_file,'rb'))\n",
    "]\n",
    "headers = {\n",
    "  'X-OCR-SECRET': secret_key\n",
    "}\n",
    "\n",
    "response = requests.request(\"POST\", api_url, headers=headers, data = payload, files = files)\n",
    "\n",
    "res = json.loads(response.text.encode('utf8'))\n",
    "print(res)\n",
    "\n",
    "with open(output_file, 'w', encoding='utf-8') as outfile:\n",
    "    json.dump(res, outfile, indent=4, ensure_ascii=False)"
   ]
  },
  {
   "cell_type": "code",
   "execution_count": 8,
   "id": "rational-jefferson",
   "metadata": {},
   "outputs": [],
   "source": []
  },
  {
   "cell_type": "code",
   "execution_count": null,
   "id": "hired-integral",
   "metadata": {},
   "outputs": [],
   "source": []
  }
 ],
 "metadata": {
  "kernelspec": {
   "display_name": "Python 3",
   "language": "python",
   "name": "python3"
  },
  "language_info": {
   "codemirror_mode": {
    "name": "ipython",
    "version": 3
   },
   "file_extension": ".py",
   "mimetype": "text/x-python",
   "name": "python",
   "nbconvert_exporter": "python",
   "pygments_lexer": "ipython3",
   "version": "3.9.1"
  }
 },
 "nbformat": 4,
 "nbformat_minor": 5
}
