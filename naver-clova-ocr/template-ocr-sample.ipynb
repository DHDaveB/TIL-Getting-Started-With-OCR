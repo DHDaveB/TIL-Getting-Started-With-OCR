{
 "cells": [
  {
   "cell_type": "code",
   "execution_count": 5,
   "id": "scientific-michael",
   "metadata": {},
   "outputs": [
    {
     "name": "stdout",
     "output_type": "stream",
     "text": [
      "{'version': 'V2', 'requestId': '935dc1d6-c21a-499c-a177-67f540a56b6e', 'timestamp': 1618202693156, 'images': [{'uid': '8ef7d4bd8fe647ee860e3b8a2026645d', 'name': 'demo', 'inferResult': 'SUCCESS', 'message': 'SUCCESS', 'matchedTemplate': {'id': 7813, 'name': 'Post Office Waybill'}, 'validationResult': {'result': 'NO_REQUESTED'}, 'title': {'name': 'Post Office Mark', 'boundingPoly': {'vertices': [{'x': 52.0, 'y': 11.0}, {'x': 120.0, 'y': 11.0}, {'x': 120.0, 'y': 39.0}, {'x': 52.0, 'y': 39.0}]}, 'inferText': '. ePOST\\n우체국 택배', 'inferConfidence': 0.88116664}, 'fields': [{'name': '받는사람 주소', 'valueType': 'ALL', 'boundingPoly': {'vertices': [{'x': 239.0, 'y': 135.0}, {'x': 516.0, 'y': 135.0}, {'x': 516.0, 'y': 204.0}, {'x': 239.0, 'y': 204.0}]}, 'inferText': '서울시 종로구 세종대로 23 길21\\n(구)서울시 종로구 당주동 145번지\\n(당주동 15-7)', 'inferConfidence': 0.9999636, 'type': 'NORMAL'}]}]}\n"
     ]
    }
   ],
   "source": [
    "import requests\n",
    "import uuid\n",
    "import time\n",
    "import json\n",
    "\n",
    "api_url = '<YOUR_TEMPLATE_API_KEY>'\n",
    "secret_key = '<YOUR_TEMPLATE_SECRET_KEY>'\n",
    "\n",
    "image_file = 'input/picture1.jpg'\n",
    "output_file = 'output-template/output1.json'\n",
    "\n",
    "request_json = {\n",
    "    'images': [\n",
    "        {\n",
    "            'format': 'jpg',\n",
    "            'name': 'demo',\n",
    "            'templateIds': [<YOUR_TEMPLATE_IDS>]\n",
    "        }\n",
    "    ],\n",
    "    'requestId': str(uuid.uuid4()),\n",
    "    'version': 'V2',\n",
    "    'timestamp': int(round(time.time() * 1000))\n",
    "}\n",
    "\n",
    "payload = {'message': json.dumps(request_json).encode('UTF-8')}\n",
    "files = [\n",
    "  ('file', open(image_file,'rb'))\n",
    "]\n",
    "headers = {\n",
    "  'X-OCR-SECRET': secret_key\n",
    "}\n",
    "\n",
    "response = requests.request(\"POST\", api_url, headers=headers, data = payload, files = files)\n",
    "\n",
    "res = json.loads(response.text.encode('utf8'))\n",
    "print(res)\n",
    "\n",
    "with open(output_file, 'w', encoding='utf-8') as outfile:\n",
    "    json.dump(res, outfile, indent=4, ensure_ascii=False)"
   ]
  },
  {
   "cell_type": "code",
   "execution_count": 8,
   "id": "rational-jefferson",
   "metadata": {},
   "outputs": [],
   "source": []
  },
  {
   "cell_type": "code",
   "execution_count": null,
   "id": "hired-integral",
   "metadata": {},
   "outputs": [],
   "source": []
  }
 ],
 "metadata": {
  "kernelspec": {
   "display_name": "Python 3",
   "language": "python",
   "name": "python3"
  },
  "language_info": {
   "codemirror_mode": {
    "name": "ipython",
    "version": 3
   },
   "file_extension": ".py",
   "mimetype": "text/x-python",
   "name": "python",
   "nbconvert_exporter": "python",
   "pygments_lexer": "ipython3",
   "version": "3.9.1"
  }
 },
 "nbformat": 4,
 "nbformat_minor": 5
}
